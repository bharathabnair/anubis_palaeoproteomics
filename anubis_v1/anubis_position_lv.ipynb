{
  "nbformat": 4,
  "nbformat_minor": 0,
  "metadata": {
    "colab": {
      "provenance": [],
      "mount_file_id": "1YbAeNiAfOdg3Vydirlxsewp8dgPOhmbz",
      "authorship_tag": "ABX9TyMp7GUVRJIb+m9kijO2Mp+X",
      "include_colab_link": true
    },
    "kernelspec": {
      "name": "python3",
      "display_name": "Python 3"
    },
    "language_info": {
      "name": "python"
    }
  },
  "cells": [
    {
      "cell_type": "markdown",
      "metadata": {
        "id": "view-in-github",
        "colab_type": "text"
      },
      "source": [
        "<a href=\"https://colab.research.google.com/github/yc386/anubis_palaeoproteomics/blob/main/anubis_position_lv.ipynb\" target=\"_parent\"><img src=\"https://colab.research.google.com/assets/colab-badge.svg\" alt=\"Open In Colab\"/></a>"
      ]
    },
    {
      "cell_type": "markdown",
      "source": [
        "# Run Anubis for position-specific deamidation abundance with RF probabilities.</br>BLG-only!"
      ],
      "metadata": {
        "id": "PECkIHFwhLId"
      }
    },
    {
      "cell_type": "markdown",
      "source": [
        "Please note specific columns are required. Have a look at the example.csv.\n",
        "\n",
        "\n",
        "1.   pattern_position\n",
        "2.   modified_count\n",
        "3.   ms2_intensity\n",
        "4.   pep_len\n",
        "5.   rf_pred_prob\n",
        "\n"
      ],
      "metadata": {
        "id": "rGBOiHLzhaFR"
      }
    },
    {
      "cell_type": "code",
      "source": [
        "#@title Add path to .csv\n",
        "#@markdown **Inputs**\n",
        "csv_file = \"path to a .csv\" #@param {type:\"string\"}"
      ],
      "metadata": {
        "cellView": "form",
        "id": "ILkc6QjNhHUb"
      },
      "execution_count": null,
      "outputs": []
    },
    {
      "cell_type": "code",
      "source": [
        "#@title import libs and functions\n",
        "\n",
        "\n",
        "import pandas as pd\n",
        "import regex as re\n",
        "import numpy as np\n",
        "\n",
        "\"\"\"\n",
        "calculate position-specific deamidation abundance for samples.\n",
        "\n",
        "Parameters:\n",
        "df (pd.DataFrame): Input DataFrame containing the necessary columns.\n",
        "Please check 'sample', 'FileName', 'pattern_position', 'modified_count', 'ms2_intensity', 'pep_len', 'rf_pred_prob' already in the df,\n",
        "if not check train_a_RF_for_anubis.ipynb to generate them. Currently, Anubis only offers a BLG-focused model.\n",
        "\n",
        "Returns:\n",
        "pd.DataFrame: Transformed DataFrame with computed 'de_abundance', 'de_type', and log10 values.\n",
        "\"\"\"\n",
        "def anubis_position_lv (df):\n",
        "  grouped = df.groupby(['sample', 'FileName', 'pattern_position']).agg(\n",
        "        total_pattern_count=('pattern_position', 'size'),\n",
        "        modified_count=('modified_count', 'sum'),\n",
        "        ms2_intensity=('ms2_intensity', 'sum'),\n",
        "        pep_len=('pep_len', 'sum'),\n",
        "        rf_pred_prob_mean=('rf_pred_prob', 'mean')\n",
        "    ).reset_index()\n",
        "\n",
        "  grouped['de_abundance'] = (\n",
        "        (grouped['modified_count'] / grouped['total_pattern_count']) *\n",
        "        (grouped['ms2_intensity'] / grouped['pep_len']) *\n",
        "        grouped['rf_pred_prob_mean']\n",
        "    )\n",
        "\n",
        "  grouped['de_type'] = np.where(\n",
        "        grouped['pattern_position'].str.contains('N', regex=False), 'N2D', 'Q2E'\n",
        "    )\n",
        "\n",
        "  df1 = grouped.pivot_table(\n",
        "        values=\"de_abundance\", index=['sample', 'FileName'], columns=\"de_type\"\n",
        "    ).reset_index()\n",
        "\n",
        "  df2 = df1.fillna(0)\n",
        "  df3=df2.assign(\n",
        "        log10_N=lambda x: np.where(x['N2D'] > 0, np.log10(x['N2D']), 0),\n",
        "        log10_Q=lambda x: np.where(x['Q2E'] > 0, np.log10(x['Q2E']), 0)\n",
        "  )\n",
        "  return df3\n"
      ],
      "metadata": {
        "id": "llN_p0pWhBHJ",
        "cellView": "form"
      },
      "execution_count": null,
      "outputs": []
    },
    {
      "cell_type": "code",
      "source": [
        "#@title execute the function\n",
        "\n",
        "df=pd.read_csv(csv_file)\n",
        "df1=anubis_position_lv(df)\n",
        "df1\n",
        "#how to save the dataframe\n",
        "#df1.to_csv(path, index=False)"
      ],
      "metadata": {
        "cellView": "form",
        "id": "MlEzFgoviUaj"
      },
      "execution_count": null,
      "outputs": []
    }
  ]
}
