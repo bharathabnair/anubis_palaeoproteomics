{
  "nbformat": 4,
  "nbformat_minor": 0,
  "metadata": {
    "colab": {
      "provenance": []
    },
    "kernelspec": {
      "name": "python3",
      "display_name": "Python 3"
    },
    "language_info": {
      "name": "python"
    }
  },
  "cells": [
    {
      "cell_type": "markdown",
      "source": [
        "# Run `Anubis` for a single ancient protein vs trypsin at the protein lv"
      ],
      "metadata": {
        "id": "hHcvRQGdD7fr"
      }
    },
    {
      "cell_type": "code",
      "source": [
        "#@title Add inputs for `Anubis` -> click `Runtime` -> `Run all` (normal CPU runtime)\n",
        "\n",
        "#@markdown **Inputs for protein lv deamidation estimations**\n",
        "sage_file = \"path to a .results.sage.tsv file\" #@param {type:\"string\"}\n",
        "psm_file = \"path to a mokapot.psms.txt\" #@param {type:\"string\"}\n",
        "output_folder='test'#@param {type:\"string\"}\n",
        "ancient_protein_target='P02754'#@param {type:\"string\"}\n",
        "#@markdown - Provide UniProt ID of the target\n",
        "#@markdown ---\n"
      ],
      "metadata": {
        "cellView": "form",
        "id": "BLVhWX6lE-OD"
      },
      "execution_count": 4,
      "outputs": []
    },
    {
      "cell_type": "code",
      "execution_count": 5,
      "metadata": {
        "cellView": "form",
        "id": "5bu4mWwxl6O9"
      },
      "outputs": [],
      "source": [
        "#@title import libs and functions\n",
        "\n",
        "\n",
        "import pandas as pd\n",
        "import regex as re\n",
        "import numpy as np\n",
        "import os\n",
        "\n",
        "def extract_naked_seqs(peptide):\n",
        "  return ''.join(re.findall(r'[A-Z]', peptide))\n",
        "\n",
        "def prep_Sage (sage_file):\n",
        "  s=pd.read_table(sage_file)\n",
        "  s=s.assign(ScanNr=s['scannr'].str.extract(r'scan=(\\d+)', expand=False))\n",
        "  s=s.rename(columns={'filename': 'FileName'})\n",
        "  s1=s[['FileName', 'ScanNr', 'ms2_intensity']]\n",
        "  s1=s1.assign(ScanNr=s1['ScanNr'].astype(int))\n",
        "\n",
        "  return s1\n",
        "\n",
        "def sage_pot_only(sage_file, psm_file):\n",
        "  s=prep_Sage(sage_file)\n",
        "  m=pd.read_table(psm_file)\n",
        "  c=pd.merge(s, m, on=['FileName', 'ScanNr'])\n",
        "  return c\n",
        "\n",
        "def cal_de_v3 (df):\n",
        "  d=df.copy()\n",
        "  d1=d.assign(\n",
        "      total_CNQM=d['Peptide'].str.count(r'N|Q|M'),\n",
        "      total_NQ=d['Peptide'].str.count(r'N|Q'),\n",
        "      total_mods=d['Peptide'].str.count(r'N\\[\\+0\\.9848\\]|Q\\[\\+0\\.9848\\]|M\\[\\+15\\.9949\\]'),\n",
        "      ox_M=d['Peptide'].str.count(r'M\\[\\+15\\.9949\\]'),\n",
        "      N2D=d['Peptide'].str.count(r'N\\[\\+0\\.9848\\]'),\n",
        "      Q2E=d['Peptide'].str.count(r'Q\\[\\+0\\.9848\\]'),\n",
        "      seq_naked=d['Peptide'].apply(extract_naked_seqs)\n",
        "  )\n",
        "  d2=d1.assign(adjusted_int=d1['ms2_intensity']/d1['seq_naked'].str.len(),\n",
        "               total_mods_weighted=d1['ox_M']+d1['N2D']+(d1['Q2E']*103.18),\n",
        "               total_de_NQ_weighted=d1['N2D']+(d1['Q2E']*103.18),\n",
        "               total_de_NQ=d1['N2D']+d1['Q2E']\n",
        "  )\n",
        "\n",
        "  d3=d2.assign(\n",
        "      mod_int=d2['adjusted_int']*(d2['total_mods']/d2['total_CNQM']),\n",
        "      weighted_mod_int=(d2['adjusted_int']*(d2['total_mods_weighted']/d2['total_CNQM'])),\n",
        "      adjusted_NQ_int=d2['adjusted_int']*(d2['total_de_NQ']/d2['total_NQ']),\n",
        "      adjusted_NQ_weighted_int=d2['adjusted_int']*(d2['total_de_NQ_weighted']/d2['total_NQ'])\n",
        "  )\n",
        "  d4=d3.fillna(0)\n",
        "  return d4"
      ]
    },
    {
      "cell_type": "code",
      "source": [
        "#@title Estimating deamidation\n",
        "\n",
        "\n",
        "c=sage_pot_only(sage_file, psm_file)\n",
        "\n",
        "c1 = c[c['Proteins'].str.contains(f\"{ancient_protein_target}|P00761\", regex=True)]\n",
        "\n",
        "c2=cal_de_v3(c1)\n",
        "\n",
        "if output_folder and not os.path.exists(output_folder):\n",
        "    os.makedirs(output_folder)\n",
        "\n",
        "c2.to_csv(f\"{output_folder}/anubis_protein_lv.csv\", index=False)"
      ],
      "metadata": {
        "cellView": "form",
        "id": "S9_FKEBsFAHz"
      },
      "execution_count": 7,
      "outputs": []
    }
  ]
}