{
  "nbformat": 4,
  "nbformat_minor": 0,
  "metadata": {
    "colab": {
      "provenance": [],
      "mount_file_id": "1r4r0SFRIxj0x3NtI4VG44ZN2KbMKEJiu",
      "authorship_tag": "ABX9TyPMGcaBk+F2kSqZkGWXtGPR",
      "include_colab_link": true
    },
    "kernelspec": {
      "name": "python3",
      "display_name": "Python 3"
    },
    "language_info": {
      "name": "python"
    }
  },
  "cells": [
    {
      "cell_type": "markdown",
      "metadata": {
        "id": "view-in-github",
        "colab_type": "text"
      },
      "source": [
        "<a href=\"https://colab.research.google.com/github/yc386/anubis_palaeoproteomics/blob/main/Anubis_scripts_for_figs.ipynb\" target=\"_parent\"><img src=\"https://colab.research.google.com/assets/colab-badge.svg\" alt=\"Open In Colab\"/></a>"
      ]
    },
    {
      "cell_type": "markdown",
      "source": [
        "# requirments"
      ],
      "metadata": {
        "id": "YuB-CznbRXH9"
      }
    },
    {
      "cell_type": "code",
      "source": [
        "import importlib\n",
        "import subprocess\n",
        "import sys\n",
        "\n",
        "required_packages = {\n",
        "    \"pandas\": \"pd\",\n",
        "    \"regex\": \"re\",\n",
        "    \"numpy\": \"np\",\n",
        "    \"altair\": \"alt\",\n",
        "    \"matplotlib\": \"plt\",\n",
        "    \"altair_saver\": \"save\",\n",
        "    \"scikit-learn\": \"sklearn\"\n",
        "}\n",
        "\n",
        "def install_if_missing(pip_name, import_name=None):\n",
        "    try:\n",
        "        importlib.import_module(import_name or pip_name)\n",
        "    except ImportError:\n",
        "        print(f\"Installing missing package: {pip_name}\")\n",
        "        subprocess.check_call([sys.executable, \"-m\", \"pip\", \"install\", pip_name])\n",
        "\n",
        "for pip_name in required_packages:\n",
        "    import_name = pip_name if pip_name != \"scikit-learn\" else \"sklearn\"\n",
        "    install_if_missing(pip_name, import_name)\n",
        "\n",
        "import pandas as pd\n",
        "import regex as re\n",
        "import numpy as np\n",
        "import altair as alt\n",
        "import matplotlib.pyplot as plt\n",
        "from altair_saver import save\n",
        "\n",
        "from sklearn.ensemble import RandomForestClassifier\n",
        "from sklearn.model_selection import (\n",
        "    GridSearchCV, RandomizedSearchCV, train_test_split,\n",
        "    cross_val_score, KFold, StratifiedKFold\n",
        ")\n",
        "from sklearn.metrics import (\n",
        "    accuracy_score, confusion_matrix, precision_score, recall_score,\n",
        "    roc_curve, auc, classification_report, ConfusionMatrixDisplay,\n",
        "    f1_score, roc_auc_score\n",
        ")\n"
      ],
      "metadata": {
        "colab": {
          "base_uri": "https://localhost:8080/"
        },
        "id": "kVcrVoacw79U",
        "outputId": "125bafdf-46a7-477a-c779-828cf6e838e3"
      },
      "execution_count": null,
      "outputs": [
        {
          "output_type": "stream",
          "name": "stdout",
          "text": [
            "Installing missing package: altair_saver\n"
          ]
        }
      ]
    },
    {
      "cell_type": "markdown",
      "source": [
        "# Fig 1"
      ],
      "metadata": {
        "id": "jHzw69rq4QoS"
      }
    },
    {
      "cell_type": "code",
      "execution_count": null,
      "metadata": {
        "id": "M0qAxPc_4JDU"
      },
      "outputs": [],
      "source": [
        "#Fig 1a\n",
        "\n",
        "def confusion_matrix_plot(y_test, y_pred, save_path):\n",
        "\n",
        "    \"\"\"\n",
        "    Plot and save a normalised confusion matrix as percentages. y_test and y_pred are from sklearn.metrics\n",
        "\n",
        "    Args:\n",
        "        y_test (array-like): Ground truth (correct) labels.\n",
        "        y_pred (array-like): Predicted labels by the model.\n",
        "        save_path (str): File path to save.\n",
        "    \"\"\"\n",
        "\n",
        "    cm = confusion_matrix(y_test, y_pred)\n",
        "    cm_normalized = cm.astype('float') / cm.sum(axis=1)[:, np.newaxis] * 100\n",
        "    cm_normalized = np.round(cm_normalized, 2)\n",
        "    disp = ConfusionMatrixDisplay(confusion_matrix=cm_normalized)\n",
        "    fig, ax = plt.subplots()\n",
        "    disp.plot(cmap='Blues', ax=ax, values_format='.2f')\n",
        "\n",
        "    ax.text(0, 0.12, 'True Negative (%)', ha='center', va='bottom',\n",
        "            fontsize=10, color='white', weight='bold')\n",
        "    ax.text(1, 0.12, 'False Positive (%)', ha='center', va='bottom',\n",
        "            fontsize=10, color='blue', weight='bold')\n",
        "    ax.text(0, 1.12, 'False Negative (%)', ha='center', va='bottom',\n",
        "            fontsize=10, color='blue', weight='bold')\n",
        "    ax.text(1, 1.12, 'True Positive (%)', ha='center', va='bottom',\n",
        "            fontsize=10, color='white', weight='bold')\n",
        "\n",
        "    plt.savefig(save_path, dpi=500, bbox_inches='tight')\n",
        "    plt.show()"
      ]
    },
    {
      "cell_type": "code",
      "source": [
        "#Fig 1b\n",
        "\n",
        "# Load data\n",
        "df = pd.read_csv(\"anubis_style.csv\")  # <-- Replace with an actual file path, check the sample csv for essential columns\n",
        "\n",
        "# Define features and target\n",
        "X = df[\n",
        "    ['Phi', 'Psi', 'SASA', 'CG_N_Distance', 'IUPRED', 'Robinson_half',\n",
        "     'int_ratio', 'adjusted_pI', 'FDR_adjusted', 'tryp_ratio',\n",
        "     'delta_rt_model', 'matched_intensity_pct', 'precursor_ppm']\n",
        "]\n",
        "y = df['modified_class']\n",
        "\n",
        "colors = ['#274fab', '#4374d7', '#7cbf3b', '#d77091', '#a94769']\n",
        "\n",
        "# Initialise the model and CV\n",
        "model = RandomForestClassifier() # <-- parameter can be changed or call a pretrained model via pickle\n",
        "cv = StratifiedKFold(n_splits=5, shuffle=True, random_state=42)\n",
        "\n",
        "# Collect stats for the five-fold CV\n",
        "fprs, tprs, aucs = [], [], []\n",
        "for train_idx, test_idx in cv.split(X, y):\n",
        "    model.fit(X.iloc[train_idx], y.iloc[train_idx])\n",
        "    y_score = model.predict_proba(X.iloc[test_idx])[:, 1]\n",
        "    fpr, tpr, _ = roc_curve(y.iloc[test_idx], y_score)\n",
        "    fprs.append(fpr)\n",
        "    tprs.append(tpr)\n",
        "    aucs.append(auc(fpr, tpr))\n",
        "\n",
        "\n",
        "def plot_roc(fprs, tprs, aucs, save_path=\"roc_curve.png\"): # <-- save path can be changed\n",
        "\n",
        "    \"\"\"Plot mean ROC curve with individual test folds and ±1 std shading.\"\"\"\n",
        "\n",
        "    mean_fpr = np.linspace(0, 1, 100)\n",
        "\n",
        "    interp_tprs = [np.interp(mean_fpr, fpr, tpr) for fpr, tpr in zip(fprs, tprs)]\n",
        "    for tpr in interp_tprs:\n",
        "        tpr[0] = 0.0\n",
        "\n",
        "    mean_tpr = np.mean(interp_tprs, axis=0)\n",
        "    std_tpr = np.std(interp_tprs, axis=0)\n",
        "    mean_auc = auc(mean_fpr, mean_tpr)\n",
        "    std_auc = np.std(aucs)\n",
        "\n",
        "    plt.figure(figsize=(8, 8))\n",
        "    for i, (fpr, tpr) in enumerate(zip(fprs, tprs)):\n",
        "        plt.plot(fpr, tpr, lw=1, alpha=0.5, color=colors[i % len(colors)],\n",
        "                 label=f'Fold {i+1} (AUC = {aucs[i]:.4f})')\n",
        "\n",
        "    plt.plot([0, 1], [0, 1], linestyle='--', color='#2bb1b1',\n",
        "             lw=2, label='random classifier (AUC = 0.5)')\n",
        "    plt.plot(mean_fpr, mean_tpr, color='#6f3192', lw=2, alpha=.8,\n",
        "             label=f'Mean ROC (AUC = {mean_auc:.4f} ± {std_auc:.4f})')\n",
        "    plt.fill_between(mean_fpr, mean_tpr - std_tpr, mean_tpr + std_tpr,\n",
        "                     color='grey', alpha=0.2, label='± 1 std. dev.')\n",
        "\n",
        "    plt.xlabel('False Positive Rate')\n",
        "    plt.ylabel('True Positive Rate')\n",
        "    plt.title('Receiver Operating Characteristic (ROC)')\n",
        "    plt.legend(loc='lower right')\n",
        "    plt.savefig(save_path, dpi=500, bbox_inches='tight')\n",
        "    plt.show()\n",
        "\n",
        "\n",
        "# Plot ROC curve\n",
        "plot_roc(fprs, tprs, aucs)"
      ],
      "metadata": {
        "colab": {
          "base_uri": "https://localhost:8080/",
          "height": 718
        },
        "id": "ICkifPtOsE-0",
        "outputId": "8c1b9913-d484-4d69-b4b5-2dd376ede597"
      },
      "execution_count": null,
      "outputs": [
        {
          "output_type": "display_data",
          "data": {
            "text/plain": [
              "<Figure size 800x800 with 1 Axes>"
            ],
            "image/png": "[encoded data removed]"
          },
          "metadata": {}
        }
      ]
    },
    {
      "cell_type": "markdown",
      "source": [
        "# Fig 2"
      ],
      "metadata": {
        "id": "zR6UDFCH44xq"
      }
    },
    {
      "cell_type": "code",
      "source": [
        "#Fig 2 & Supplementary Fig 2\n",
        "#key difference --> Fig2: polyfit from numpy vs Sup Fig2: linregress from scipy.stats\n",
        "\n",
        "df = pd.read_csv(\"your_file.csv\")  # <-- replace with actual path\n",
        "# Time point order and BLG type colors\n",
        "time_point_order = [0, 3, 6, 9, 12]\n",
        "domain = ['BLG_only', 'C8', 'C8+sugar', 'sugar']\n",
        "range_ = ['#4097d9', '#7d67e0', '#e8853a', '#2bb27c']\n",
        "\n",
        "# Output path for the HTML format\n",
        "save_path = \"line_plot.html\"  # <-- replace with actual path\n",
        "\n",
        "\n",
        "def line_point_plot(df, time_point_order, domain, range_, save_path):\n",
        "\n",
        "    \"\"\"\n",
        "    Create and save an Altair line+scatter plot of deamidation abundance over time.\n",
        "\n",
        "    Args:\n",
        "        df (pd.DataFrame): DataFrame with 'integer_time_point', 'y_pred',\n",
        "                           'de_abundance', 'BLG_type', and 'pattern_position'.\n",
        "        time_point_order (list): Order to sort time points on the X-axis.\n",
        "        domain (list): Unique BLG types to map to colours.\n",
        "        range_ (list): Corresponding colors for each BLG type.\n",
        "        save_path (str): File path to save.\n",
        "    \"\"\"\n",
        "\n",
        "    line = alt.Chart(df).mark_line().encode(\n",
        "        alt.X('integer_time_point:O', sort=time_point_order),\n",
        "        alt.Y('y_pred:Q'),\n",
        "        alt.Color('BLG_type:N', scale=alt.Scale(domain=domain, range=range_))\n",
        "    ).properties(width=200, height=200)\n",
        "\n",
        "    points = alt.Chart(df).mark_circle().encode(\n",
        "        alt.X('integer_time_point:O', sort=time_point_order, title='Time (hours)'),\n",
        "        alt.Y('de_abundance:Q', title='Deamidation Abundance'),\n",
        "        alt.Color('BLG_type:N', scale=alt.Scale(domain=domain, range=range_))\n",
        "    )\n",
        "\n",
        "    plot = alt.layer(points, line).facet(\n",
        "        facet=alt.Facet('pattern_position:N', title=''),\n",
        "        columns=3\n",
        "    )\n",
        "\n",
        "    plot.save(save_path)\n"
      ],
      "metadata": {
        "id": "R4AVzYh6xnRv"
      },
      "execution_count": null,
      "outputs": []
    },
    {
      "cell_type": "markdown",
      "source": [
        "# Fig 3"
      ],
      "metadata": {
        "id": "6zuQ8JCdQi-A"
      }
    },
    {
      "cell_type": "code",
      "source": [
        "#Fig 3a\n",
        "\n",
        "df = pd.read_csv(\"data.csv\")  # <-- replace with actual file path\n",
        "\n",
        "save_path = \"bar_plot.html\"  # <-- replace with actual save path\n",
        "\n",
        "# Define custom pattern sort order (optional)\n",
        "pattern_order = [\n",
        "    'IQ[29]K', 'AQ[51]S', 'LQ[75]K', 'EN[79]G', 'AQ[84]K', 'LN[104]E',\n",
        "    'EN[106]K', 'EN[125]S', 'EQ[131]S', 'CQ[136]C',\n",
        "    'FN[168]P', 'TQ[171]L', 'EQ[175]C'\n",
        "]\n",
        "\n",
        "\n",
        "def plot_bar(df, pattern_order, save_path):\n",
        "\n",
        "    \"\"\"\n",
        "    Create and save a faceted bar plot of deamidation abundance by pattern and sample.\n",
        "\n",
        "    Args:\n",
        "        df (pd.DataFrame): Input dataframe with columns:\n",
        "                           'modified_class', 'pattern_position', 'de_abundance', 'sample'.\n",
        "        pattern_order (list): Ordered list of pattern_position values to sort y-axis.\n",
        "        save_path (str): File path to save.\n",
        "    \"\"\"\n",
        "\n",
        "    bar = alt.Chart(df).mark_bar().encode(\n",
        "        alt.X('modified_class:O', axis=alt.Axis(labelAngle=0)),\n",
        "        alt.Y('pattern_position:O', sort=pattern_order),\n",
        "        alt.Color('de_abundance:Q',\n",
        "                  scale=alt.Scale(scheme='lighttealblue'),\n",
        "                  title='Deamidation Abundance',\n",
        "                  legend=alt.Legend(orient=\"right\"))\n",
        "    ).properties(\n",
        "        width=150,\n",
        "        height=300\n",
        "    )\n",
        "\n",
        "    final_bar = alt.layer(bar).facet(\n",
        "        column=alt.Column('sample:N', title='')\n",
        "    )\n",
        "\n",
        "    final_bar.save(save_path)\n"
      ],
      "metadata": {
        "id": "Ih0ZC6szz3ub"
      },
      "execution_count": null,
      "outputs": []
    },
    {
      "cell_type": "code",
      "source": [
        "#Fig 3b\n",
        "\n",
        "df = pd.read_csv(\"data.csv\")  # <-- replace with actual file path\n",
        "\n",
        "save_path = \"heatmap_plot.html\"  # <-- replace with actual save path\n",
        "\n",
        "sample_palette = {\n",
        "    'Jeong_2018': '#e35100',\n",
        "    'Wilkin_2020': '#935ff4',\n",
        "    'Wilkin_2021': '#d09a00'\n",
        "    }\n",
        "\n",
        "\n",
        "def plot_heatmap(df, sample_palette, save_path):\n",
        "    \"\"\"\n",
        "    Create and save a heatmap of log10_N vs. log10_Q values with sample-specific color overlay,\n",
        "    density shading, and median reference lines.\n",
        "\n",
        "    Args:\n",
        "        df (pd.DataFrame): Must include columns 'log10_N', 'log10_Q', and 'sample'.\n",
        "        save_path (str): File path to save.\n",
        "    \"\"\"\n",
        "\n",
        "    midpoint_N2D = df['log10_N'].median()\n",
        "    midpoint_Q2E = df['log10_Q'].median()\n",
        "    x_min=0\n",
        "    x_max=5\n",
        "\n",
        "    heatmap = alt.Chart(df).mark_rect().encode(\n",
        "    alt.X('log10_N:Q', bin=alt.Bin(extent=[x_min, x_max])),\n",
        "    alt.Y('log10_Q:Q', bin=True),\n",
        "    alt.Color('count()', scale=alt.Scale(scheme='greenblue'), legend=alt.Legend(orient=\"bottom\"),\n",
        "              title='Raw file count'))\n",
        "\n",
        "    points = alt.Chart(df).transform_calculate(\n",
        "    jitter_x='datum.log10_N + (random() + 0.025) * 0.125',\n",
        "    jitter_y='datum.log10_Q + (random() - 0.025) * 0.125'\n",
        "    ).mark_circle(\n",
        "    size=100,\n",
        "    ).encode(\n",
        "    alt.X('jitter_x:Q', title='N2D abundance per raw'),\n",
        "    alt.Y('jitter_y:Q', title='Q2E abundance per raw'),\n",
        "    alt.Color('sample:N', scale=alt.Scale(domain=list(sample_palette.keys()), range=list(sample_palette.values())),\n",
        "              legend=alt.Legend(orient='bottom'))\n",
        "    ).properties(width=450, height=450)\n",
        "\n",
        "    vline = alt.Chart().mark_rule(color='#000d4f', strokeDash=[8,8], strokeWidth=2).encode(\n",
        "    x=alt.datum(midpoint_N2D))\n",
        "\n",
        "    hline = alt.Chart().mark_rule(color='#71797E', strokeDash=[8,8], strokeWidth=2).encode(\n",
        "    y=alt.datum(midpoint_Q2E))\n",
        "\n",
        "    both_high = alt.Chart(pd.DataFrame({'x': [6], 'y': [3.14]})).mark_text(\n",
        "    text='Q2E median',\n",
        "    align='right',\n",
        "    fontWeight='bold',\n",
        "    fontSize=11,\n",
        "    color='#71797E').encode(x='x:Q', y='y:Q')\n",
        "\n",
        "    high_N2D = alt.Chart(pd.DataFrame({'x': [3.96], 'y': [4.9]})).mark_text(\n",
        "    text='N2D median',\n",
        "    align='right',\n",
        "    fontWeight='bold',\n",
        "    fontSize=11,\n",
        "    color='#000d4f').encode(x='x:Q', y='y:Q')\n",
        "\n",
        "    combined=heatmap + points + vline + hline + both_high + high_N2D\n",
        "\n",
        "    combined.save(save_path)\n"
      ],
      "metadata": {
        "id": "p7wi4BHoQ6mn"
      },
      "execution_count": null,
      "outputs": []
    },
    {
      "cell_type": "code",
      "source": [
        "# Fig 3c\n",
        "\n",
        "df = pd.read_csv(\"data.csv\")  # <-- replace with actual file path\n",
        "\n",
        "save_path = \"comparative_bar.html\"  # <-- replace with actual save path\n",
        "\n",
        "protein_colour_palette = {\n",
        "    'P02754': '#1b99c5',\n",
        "    'P00761': '#d453de'}\n",
        "\n",
        "def plot_comparative_bar(df, protein_colour_palette, save_path):\n",
        "\n",
        "    \"\"\"\n",
        "    Create and save a faceted comparative bar plot of protein modification intensity\n",
        "    with error bars across samples.\n",
        "\n",
        "    Args:\n",
        "        df (pd.DataFrame): Must contain 'protein_type', 'weighted_mod_int', and 'sample' columns.\n",
        "        save_path (str): Path to save.\n",
        "    \"\"\"\n",
        "\n",
        "    protein_color_palette = {\n",
        "    'P02754': '#1b99c5',\n",
        "    'P00761': '#d453de'}\n",
        "\n",
        "    bars= alt.Chart(df).mark_bar().encode(\n",
        "    x=alt.X('protein_type:N', title=''),\n",
        "    y=alt.Y('weighted_mod_int:Q', aggregate='mean'),\n",
        "    color=alt.Color('protein_type:N', title='Protein Type', scale=alt.Scale(domain=list(protein_colour_palette.keys()),\n",
        "                                                                            range=list(protein_colour_palette.values()))))\n",
        "\n",
        "    error_bars = alt.Chart(df).mark_errorbar(extent='ci').encode(\n",
        "    x=alt.X('protein_type:N', title=''),\n",
        "    y=alt.Y('weighted_mod_int:Q', aggregate='mean', title='Mean total modification intensity'))\n",
        "\n",
        "    final=alt.layer(bars, error_bars, data=df).facet(\n",
        "    column=alt.Column('sample:N', title='Sites'))\n",
        "\n",
        "    final.save(save_path)\n"
      ],
      "metadata": {
        "id": "KX4uW4Z_RRnK"
      },
      "execution_count": null,
      "outputs": []
    },
    {
      "cell_type": "markdown",
      "source": [
        "# Supplementary Figs"
      ],
      "metadata": {
        "id": "z2FShTH9RpeI"
      }
    },
    {
      "cell_type": "code",
      "source": [
        "#Supplementary Fig 1\n",
        "\n",
        "df = pd.read_csv(\"data.csv\")  # <-- replace with actual file path\n",
        "\n",
        "save_path = \"gini_importance.html\"  # <-- replace with actual save path\n",
        "\n",
        "feature_list=df['Feature'].tolist()\n",
        "\n",
        "colour_palette = {\n",
        "    'MS2-based': '#59bdff',\n",
        "    'physico-chemical': '#af8cff'\n",
        "    }\n",
        "\n",
        "def plot_gini_importance(df, colour_palette, feature_list, save_path):\n",
        "\n",
        "    \"\"\"\n",
        "    Create and save a horizontal bar plot showing Gini feature importance.\n",
        "\n",
        "    Args:\n",
        "        df (pd.DataFrame): DataFrame with columns 'Feature', 'Gini Importance', and 'feature_type'.\n",
        "        feature_list (list): List of features in desired y-axis order.\n",
        "        save_path (str): File path to save.\n",
        "    \"\"\"\n",
        "\n",
        "    bars= alt.Chart(df).mark_bar().encode(\n",
        "    x=alt.X('Gini Importance:Q'),\n",
        "    y=alt.Y('Feature:N', sort=feature_list),\n",
        "    color=alt.Color('feature_type:N', title='Feature Type',\n",
        "                    scale=alt.Scale(domain=list(colour_palette.keys()), range=list(colour_palette.values())),\n",
        "                    legend=alt.Legend(orient='bottom-right')))\n",
        "\n",
        "    bars.save(save_path)"
      ],
      "metadata": {
        "id": "J4B0K-VdRppN"
      },
      "execution_count": null,
      "outputs": []
    }
  ]
}